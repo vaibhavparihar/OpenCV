{
 "cells": [
  {
   "cell_type": "code",
   "execution_count": 3,
   "id": "52e8797a",
   "metadata": {},
   "outputs": [],
   "source": [
    "import cv2\n",
    "image  = cv2.imread('faces/katheryn-winnick.jpg')\n",
    "height , width  = image.shape[:2]\n",
    "center  = (width/2 , height/2)\n",
    "rotate_matrix = cv2.getRotationMatrix2D(center=center , angle = 90 , scale = 1)\n",
    "rotated_image = cv2.warpAffine(src=image , M=rotate_matrix ,dsize=(width,height))\n",
    "cv2.imshow('Hot Girl',image)\n",
    "cv2.imshow('Hot Girl Rotated',rotated_image)\n",
    "cv2.waitKey(0)\n",
    "cv2.destroyAllWindows()"
   ]
  },
  {
   "cell_type": "code",
   "execution_count": null,
   "id": "1eb793a2",
   "metadata": {},
   "outputs": [],
   "source": []
  }
 ],
 "metadata": {
  "kernelspec": {
   "display_name": "Python 3 (ipykernel)",
   "language": "python",
   "name": "python3"
  },
  "language_info": {
   "codemirror_mode": {
    "name": "ipython",
    "version": 3
   },
   "file_extension": ".py",
   "mimetype": "text/x-python",
   "name": "python",
   "nbconvert_exporter": "python",
   "pygments_lexer": "ipython3",
   "version": "3.9.7"
  }
 },
 "nbformat": 4,
 "nbformat_minor": 5
}
