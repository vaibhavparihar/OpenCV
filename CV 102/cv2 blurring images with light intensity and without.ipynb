{
 "cells": [
  {
   "cell_type": "code",
   "execution_count": 1,
   "id": "1946cf8d",
   "metadata": {},
   "outputs": [],
   "source": [
    "import cv2\n",
    "import numpy as np\n",
    "\n",
    "image = cv2.imread('faces/imogen-poots.jpg')\n",
    "kernel = np.ones([5,5] , np.float32)/25 \n",
    "\n",
    "blurred_image  = cv2.filter2D(image,-1,kernel)\n",
    "\n",
    "cv2.imshow('Guess Who!',blurred_image)\n",
    "cv2.waitKey(0)\n",
    "cv2.destroyAllWindows()"
   ]
  },
  {
   "cell_type": "code",
   "execution_count": 4,
   "id": "efc8ccf4",
   "metadata": {},
   "outputs": [],
   "source": [
    "import cv2\n",
    "import numpy as np\n",
    "\n",
    "image = cv2.imread('faces/imogen-poots.jpg')\n",
    "# kernel = np.ones([5,5] , np.float32)/25\n",
    "\n",
    "blurred_image  = cv2.blur(image,(10,10),0)\n",
    "\n",
    "cv2.imshow('Guess Who!',blurred_image)\n",
    "cv2.waitKey(0)\n",
    "cv2.destroyAllWindows()"
   ]
  },
  {
   "cell_type": "code",
   "execution_count": null,
   "id": "54c33676",
   "metadata": {},
   "outputs": [],
   "source": []
  }
 ],
 "metadata": {
  "kernelspec": {
   "display_name": "Python 3 (ipykernel)",
   "language": "python",
   "name": "python3"
  },
  "language_info": {
   "codemirror_mode": {
    "name": "ipython",
    "version": 3
   },
   "file_extension": ".py",
   "mimetype": "text/x-python",
   "name": "python",
   "nbconvert_exporter": "python",
   "pygments_lexer": "ipython3",
   "version": "3.9.7"
  }
 },
 "nbformat": 4,
 "nbformat_minor": 5
}
