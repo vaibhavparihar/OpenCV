{
 "cells": [
  {
   "cell_type": "code",
   "execution_count": 2,
   "id": "93434e57",
   "metadata": {},
   "outputs": [],
   "source": [
    "import cv2\n",
    "import numpy as np\n",
    "path1 = r'/Users/ritikparihar/Desktop/F_R/faces/im1.jpg'\n",
    "path2 = r'/Users/ritikparihar/Desktop/F_R/faces/im2.jpg'\n",
    "image1 = cv2.imread(path1) \n",
    "image2 = cv2.imread(path2)\n",
    "\n",
    "weightedSum = cv2.addWeighted(image2, 0.7, image1, 1, 50)\n",
    "cv2.imshow('Weighted Image', weightedSum)\n",
    "\n",
    "cv2.waitKey(0)\n",
    "cv2.destroyAllWindows()"
   ]
  },
  {
   "cell_type": "code",
   "execution_count": null,
   "id": "0a1c888a",
   "metadata": {},
   "outputs": [],
   "source": []
  }
 ],
 "metadata": {
  "kernelspec": {
   "display_name": "Python 3 (ipykernel)",
   "language": "python",
   "name": "python3"
  },
  "language_info": {
   "codemirror_mode": {
    "name": "ipython",
    "version": 3
   },
   "file_extension": ".py",
   "mimetype": "text/x-python",
   "name": "python",
   "nbconvert_exporter": "python",
   "pygments_lexer": "ipython3",
   "version": "3.9.7"
  }
 },
 "nbformat": 4,
 "nbformat_minor": 5
}
