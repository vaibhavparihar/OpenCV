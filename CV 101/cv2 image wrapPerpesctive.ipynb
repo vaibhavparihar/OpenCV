{
 "cells": [
  {
   "cell_type": "code",
   "execution_count": 5,
   "id": "36ba20d2",
   "metadata": {},
   "outputs": [],
   "source": [
    "import cv2\n",
    "import numpy as np\n",
    "path = r'/Users/ritikparihar/Desktop/F_R/faces/jessica-wilde.jpg'\n",
    "imageread = cv2.imread(path)\n",
    "\n",
    "pts1 = np.float32([[0, 260], [640, 260], [0, 400], [640, 400]])\n",
    "pts2 = np.float32([[0, 0], [400, 0], [0, 640], [400, 640]])\n",
    "resultimage = cv2.getPerspectiveTransform(pts1, pts2)\n",
    "finalimage = cv2.warpPerspective(imageread, resultimage, (2000, 2000))\n",
    "cv2.imshow('Source_image', imageread)\n",
    "cv2.imshow('Destination_image', finalimage)\n",
    "\n",
    "cv2.waitKey(0)\n",
    "cv2.destroyAllWindows()"
   ]
  },
  {
   "cell_type": "code",
   "execution_count": null,
   "id": "10bb2db7",
   "metadata": {},
   "outputs": [],
   "source": []
  },
  {
   "cell_type": "code",
   "execution_count": null,
   "id": "060156e1",
   "metadata": {},
   "outputs": [],
   "source": []
  }
 ],
 "metadata": {
  "kernelspec": {
   "display_name": "Python 3 (ipykernel)",
   "language": "python",
   "name": "python3"
  },
  "language_info": {
   "codemirror_mode": {
    "name": "ipython",
    "version": 3
   },
   "file_extension": ".py",
   "mimetype": "text/x-python",
   "name": "python",
   "nbconvert_exporter": "python",
   "pygments_lexer": "ipython3",
   "version": "3.9.7"
  }
 },
 "nbformat": 4,
 "nbformat_minor": 5
}
