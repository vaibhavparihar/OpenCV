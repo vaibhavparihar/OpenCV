{
 "cells": [
  {
   "cell_type": "code",
   "execution_count": null,
   "id": "02f19a1f",
   "metadata": {},
   "outputs": [],
   "source": [
    "import cv2\n",
    "path = r'/Users/ritikparihar/Desktop/F_R/faces/jessica-wilde.jpg'\n",
    "img = cv2.imread(path)\n",
    "name = 'Jessica Wilde'\n",
    "org = (100,1300)\n",
    "font = cv2.FONT_HERSHEY_COMPLEX\n",
    "font_scale = 3\n",
    "color = (255,255,255)\n",
    "thickness = 3\n",
    "text = cv2.putText(img,\"That's My GirL\",org,font,font_scale,color,thickness,cv2.LINE_AA)\n",
    "col = cv2.cvtColor(text,cv2.COLOR_BGR2GRAY)\n",
    "cv2.imshow(name,col)\n",
    "cv2.waitKey(0)\n",
    "cv2.destroyAllWindows()\n",
    "cv2.waitKey(0)"
   ]
  },
  {
   "cell_type": "code",
   "execution_count": null,
   "id": "d0bc9f5e",
   "metadata": {},
   "outputs": [],
   "source": []
  }
 ],
 "metadata": {
  "kernelspec": {
   "display_name": "Python 3 (ipykernel)",
   "language": "python",
   "name": "python3"
  },
  "language_info": {
   "codemirror_mode": {
    "name": "ipython",
    "version": 3
   },
   "file_extension": ".py",
   "mimetype": "text/x-python",
   "name": "python",
   "nbconvert_exporter": "python",
   "pygments_lexer": "ipython3",
   "version": "3.9.7"
  }
 },
 "nbformat": 4,
 "nbformat_minor": 5
}
