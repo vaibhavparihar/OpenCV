{
 "cells": [
  {
   "cell_type": "code",
   "execution_count": 4,
   "id": "b92ca620",
   "metadata": {},
   "outputs": [],
   "source": [
    "import cv2\n",
    "\n",
    "img = cv2.imread('objects/shape.jpg')\n",
    "\n",
    "imgContour = img.copy()\n",
    "\n",
    "imgGray = cv2.cvtColor(img,cv2.COLOR_BGR2GRAY)\n",
    "imgBlur = cv2.GaussianBlur(imgGray,(7,7),1)\n",
    "imgCanny = cv2.Canny(imgBlur,100,100)\n",
    "\n",
    "def gettingContours(img):\n",
    "    contour , heirarchy = cv2.findContours(img,cv2.RETR_EXTERNAL,cv2.CHAIN_APPROX_NONE)\n",
    "    for cnt in contour :\n",
    "        area = cv2.contourArea(cnt)\n",
    "#         print(area)\n",
    "        cv2.drawContours(imgContour,cnt,-1,(144,238,144),3)\n",
    "        peri = cv2.arcLength(cnt,True)\n",
    "        approx = cv2.approxPolyDP(cnt,0.02*peri,True)\n",
    "        objCor = len(approx)\n",
    "        x,y,w,h = cv2.boundingRect(approx)\n",
    "        if objCor == 3 : objectType = 'Triangle'\n",
    "        elif objCor == 4 :\n",
    "            aspRatio = w/float(h)\n",
    "            if aspRatio>0.95 and aspRatio<1.05 : objectType = 'Square'\n",
    "            else:objectType = 'Rectangle'\n",
    "        else : objectType = 'Circle'\n",
    "        cv2.rectangle(imgContour,(x-20,y-20),(x+w+20,y+h+20) , (0,0,255),2)\n",
    "        cv2.putText(imgContour,objectType,(x +(w//2)-30,y+(h//2)),cv2.FONT_HERSHEY_COMPLEX,0.5,(255,0,0),2)\n",
    "\n",
    "gettingContours(imgCanny)\n",
    "cv2.imshow('img',imgContour)\n",
    "cv2.waitKey(0)\n",
    "cv2.destroyAllWindows()"
   ]
  },
  {
   "cell_type": "code",
   "execution_count": null,
   "id": "8434bfc2",
   "metadata": {},
   "outputs": [],
   "source": []
  }
 ],
 "metadata": {
  "kernelspec": {
   "display_name": "Python 3 (ipykernel)",
   "language": "python",
   "name": "python3"
  },
  "language_info": {
   "codemirror_mode": {
    "name": "ipython",
    "version": 3
   },
   "file_extension": ".py",
   "mimetype": "text/x-python",
   "name": "python",
   "nbconvert_exporter": "python",
   "pygments_lexer": "ipython3",
   "version": "3.9.7"
  }
 },
 "nbformat": 4,
 "nbformat_minor": 5
}
