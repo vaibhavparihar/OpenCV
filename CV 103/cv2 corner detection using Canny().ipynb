{
 "cells": [
  {
   "cell_type": "code",
   "execution_count": null,
   "id": "b23eddee",
   "metadata": {},
   "outputs": [],
   "source": [
    "import cv2\n",
    " \n",
    "img = cv2.imread('faces/imogen-poots.jpg')\n",
    "\n",
    "cornerDetection = cv2.Canny(img,90,90)\n",
    "\n",
    "cv2.imshow('Corner Detection', cornerDetection)\n",
    "cv2.waitKey(0)\n",
    "cv2.destroyAllWindows()"
   ]
  },
  {
   "cell_type": "code",
   "execution_count": null,
   "id": "6640a6d3",
   "metadata": {},
   "outputs": [],
   "source": []
  }
 ],
 "metadata": {
  "kernelspec": {
   "display_name": "Python 3 (ipykernel)",
   "language": "python",
   "name": "python3"
  },
  "language_info": {
   "codemirror_mode": {
    "name": "ipython",
    "version": 3
   },
   "file_extension": ".py",
   "mimetype": "text/x-python",
   "name": "python",
   "nbconvert_exporter": "python",
   "pygments_lexer": "ipython3",
   "version": "3.9.7"
  }
 },
 "nbformat": 4,
 "nbformat_minor": 5
}
