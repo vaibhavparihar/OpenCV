{
 "cells": [
  {
   "cell_type": "code",
   "execution_count": 1,
   "id": "6eef0ca6",
   "metadata": {},
   "outputs": [],
   "source": [
    "import cv2 \n",
    "import numpy as np\n",
    "\n",
    "cap  = cv2.VideoCapture(0)\n",
    "\n",
    "if(cap.isOpened == False):\n",
    "    print(\"Error Opening camera\")\n",
    "\n",
    "while(cap.isOpened()):\n",
    "    ret,frame = cap.read()\n",
    "    if ret == True : \n",
    "        gray = cv2.cvtColor(frame,cv2.COLOR_BGR2HSV)\n",
    "        \n",
    "        \n",
    "        cv2.imshow(\"Black and white filter\",gray)\n",
    "        \n",
    "        if cv2.waitKey(25) & 0xFF == ord('q'):\n",
    "            break\n",
    "\n",
    "cap.release()\n",
    "cv2.destroyAllWindows()\n",
    "    \n"
   ]
  },
  {
   "cell_type": "code",
   "execution_count": null,
   "id": "46c04e66",
   "metadata": {},
   "outputs": [],
   "source": []
  }
 ],
 "metadata": {
  "kernelspec": {
   "display_name": "Python 3 (ipykernel)",
   "language": "python",
   "name": "python3"
  },
  "language_info": {
   "codemirror_mode": {
    "name": "ipython",
    "version": 3
   },
   "file_extension": ".py",
   "mimetype": "text/x-python",
   "name": "python",
   "nbconvert_exporter": "python",
   "pygments_lexer": "ipython3",
   "version": "3.9.7"
  }
 },
 "nbformat": 4,
 "nbformat_minor": 5
}
